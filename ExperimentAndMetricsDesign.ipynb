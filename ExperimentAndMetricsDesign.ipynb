{
 "cells": [
  {
   "cell_type": "markdown",
   "metadata": {},
   "source": [
    "1. What would you choose as the key measure of success of this experiment in encouraging driver partners to serve both cities, and why would you choose this metrics?\n",
    "\n",
    "Here are some key measure of success of this experiment.\n",
    "\n",
    "-- Increase/decrease in Number of toll uses\n",
    "\n",
    "-- More number of people signing up after introducing the reimbursing means the reimbursing all toll costs may have some good impact on new signup.\n",
    "\n",
    "-- Longer average distance per trip in first 30 days would also suggest there is some effect on the impact of the experiment. Increase in average distance per trip is positive outcome and decrease or same average distance per trip is negative test outcome. \n",
    "\n",
    "-- Maximum numbers of trip taken in the first 30 days can also show us some positive impact. If more number of trips than test is good. if less or same number of trips than test is not good. \n",
    "\n",
    "-- Finding out how long partners are actively driving (last_trip_date - signup_date) grouped by signup_date can also suggest us that the experiment has positive impact. If number of active days increases than test is good. If number of active days decrease ro does not change than test is not good. \n",
    "\n",
    "-- Finding out average weekday_pct of partners eiter reduced or increased. Decreased weekday_pct tells us that more drivers are driving during weekends when there are reasonable activity in both cities. \n",
    "\n",
    "2. Describe a practical  experiment you would design to compare the effectiveness of  the proposed change in relation to the key measure of  success. Please provide details on: \n",
    "a. how you will implement the experiment  \n",
    "b. what statistical test(s) you will conduct to verify the significance of  the observation  \n",
    "c. how you would interpret the results and provide recommendations to the city operations team along with any caveats.  \n",
    "\n",
    "a. We can conduct a A/B testing \n",
    "Create a controlled group and test group to collect their data \n",
    "Use the metrics above to see the outcome of the test.\n",
    "\n",
    "b. To verify the significance of the observation we can perform null Hypothesis testing using t-test or z-test.\n",
    "\n",
    "c. If the A/B testing suggest that the experiment is successful, I would present a final report with test analysis visualization."
   ]
  },
  {
   "cell_type": "code",
   "execution_count": null,
   "metadata": {},
   "outputs": [],
   "source": []
  }
 ],
 "metadata": {
  "kernelspec": {
   "display_name": "Python 3",
   "language": "python",
   "name": "python3"
  },
  "language_info": {
   "codemirror_mode": {
    "name": "ipython",
    "version": 3
   },
   "file_extension": ".py",
   "mimetype": "text/x-python",
   "name": "python",
   "nbconvert_exporter": "python",
   "pygments_lexer": "ipython3",
   "version": "3.6.6"
  }
 },
 "nbformat": 4,
 "nbformat_minor": 2
}
